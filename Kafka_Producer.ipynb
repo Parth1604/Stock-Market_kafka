{
 "cells": [
  {
   "cell_type": "code",
   "execution_count": 1,
   "id": "d16564fb",
   "metadata": {},
   "outputs": [
    {
     "name": "stdout",
     "output_type": "stream",
     "text": [
      "Requirement already satisfied: kafka-python==2.0.1 in c:\\users\\parth\\anaconda3\\lib\\site-packages (2.0.1)\n",
      "Note: you may need to restart the kernel to use updated packages.\n"
     ]
    }
   ],
   "source": [
    "pip install kafka-python==2.0.1"
   ]
  },
  {
   "cell_type": "code",
   "execution_count": 1,
   "id": "466c4a90",
   "metadata": {},
   "outputs": [],
   "source": [
    "import pandas as pd\n",
    "from kafka import KafkaProducer\n",
    "from time import sleep\n",
    "from json import dumps\n",
    "import json"
   ]
  },
  {
   "cell_type": "code",
   "execution_count": 2,
   "id": "6b38bd45",
   "metadata": {},
   "outputs": [],
   "source": [
    "producer = KafkaProducer(bootstrap_servers=['IP:9092'],\n",
    "                         value_serializer=lambda x: \n",
    "                         dumps(x).encode('utf-8'))"
   ]
  },
  {
   "cell_type": "code",
   "execution_count": 5,
   "id": "35a84dfb",
   "metadata": {},
   "outputs": [
    {
     "data": {
      "text/plain": [
       "<kafka.producer.future.FutureRecordMetadata at 0x1ca108ba2b0>"
      ]
     },
     "execution_count": 5,
     "metadata": {},
     "output_type": "execute_result"
    }
   ],
   "source": [
    " producer.send('market-data', value={'surnasdasdame':'parasdasdmar'})"
   ]
  },
  {
   "cell_type": "code",
   "execution_count": 6,
   "id": "946e9dd8",
   "metadata": {},
   "outputs": [],
   "source": [
    "df = pd.read_csv(\"C:/Users/parth/Downloads/Stockmarket_trimmed.csv\")"
   ]
  },
  {
   "cell_type": "code",
   "execution_count": 7,
   "id": "59dfc202",
   "metadata": {},
   "outputs": [],
   "source": [
    "for i in range(len(df)):\n",
    "    dict_stock = df.iloc[i].to_dict()\n",
    "    producer.send('market-data', value=dict_stock)\n",
    "    sleep(0.005)"
   ]
  },
  {
   "cell_type": "code",
   "execution_count": 89,
   "id": "1e22299c",
   "metadata": {},
   "outputs": [],
   "source": [
    "producer.flush()"
   ]
  }
 ],
 "metadata": {
  "kernelspec": {
   "display_name": "Python 3 (ipykernel)",
   "language": "python",
   "name": "python3"
  },
  "language_info": {
   "codemirror_mode": {
    "name": "ipython",
    "version": 3
   },
   "file_extension": ".py",
   "mimetype": "text/x-python",
   "name": "python",
   "nbconvert_exporter": "python",
   "pygments_lexer": "ipython3",
   "version": "3.9.13"
  }
 },
 "nbformat": 4,
 "nbformat_minor": 5
}
